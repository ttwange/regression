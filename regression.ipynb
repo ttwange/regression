{
  "nbformat": 4,
  "nbformat_minor": 0,
  "metadata": {
    "colab": {
      "name": "regression.ipynb",
      "provenance": []
    },
    "kernelspec": {
      "name": "python3",
      "display_name": "Python 3"
    },
    "language_info": {
      "name": "python"
    }
  },
  "cells": [
    {
      "cell_type": "code",
      "execution_count": 18,
      "metadata": {
        "id": "rxHcYsv_6orB"
      },
      "outputs": [],
      "source": [
        "import matplotlib.pyplot as plt\n",
        "import numpy as np\n",
        "from sklearn import datasets, linear_model, model_selection"
      ]
    },
    {
      "cell_type": "code",
      "source": [
        "X, y = datasets.load_diabetes(return_X_y=True)\n",
        "print(X.shape)\n",
        "print(X[0])"
      ],
      "metadata": {
        "colab": {
          "base_uri": "https://localhost:8080/"
        },
        "id": "m2UJ8dgN8qeb",
        "outputId": "8ee5842a-7e8d-4d51-c588-0975e1de679e"
      },
      "execution_count": 19,
      "outputs": [
        {
          "output_type": "stream",
          "name": "stdout",
          "text": [
            "(442, 10)\n",
            "[ 0.03807591  0.05068012  0.06169621  0.02187235 -0.0442235  -0.03482076\n",
            " -0.04340085 -0.00259226  0.01990842 -0.01764613]\n"
          ]
        }
      ]
    },
    {
      "cell_type": "code",
      "source": [
        "X = X[:, np.newaxis, 5]"
      ],
      "metadata": {
        "id": "I5iY6YVx8qnp"
      },
      "execution_count": 20,
      "outputs": []
    },
    {
      "cell_type": "code",
      "source": [
        "X_train, X_test, y_train, y_test = model_selection.train_test_split(X, y, test_size=0.33)"
      ],
      "metadata": {
        "id": "kzhAHrvx8qpn"
      },
      "execution_count": 21,
      "outputs": []
    },
    {
      "cell_type": "code",
      "source": [
        "model = linear_model.LinearRegression()\n",
        "model.fit(X_train, y_train)"
      ],
      "metadata": {
        "colab": {
          "base_uri": "https://localhost:8080/"
        },
        "id": "vo2Zuf0b8qrX",
        "outputId": "accee862-7191-44a5-ab3f-63a4dc2fa79b"
      },
      "execution_count": 22,
      "outputs": [
        {
          "output_type": "execute_result",
          "data": {
            "text/plain": [
              "LinearRegression()"
            ]
          },
          "metadata": {},
          "execution_count": 22
        }
      ]
    },
    {
      "cell_type": "code",
      "source": [
        "y_pred = model.predict(X_test)"
      ],
      "metadata": {
        "id": "44ij6EfQ8qtC"
      },
      "execution_count": 23,
      "outputs": []
    },
    {
      "cell_type": "code",
      "source": [
        "y_pred"
      ],
      "metadata": {
        "colab": {
          "base_uri": "https://localhost:8080/"
        },
        "id": "fzQG7TOc8qv0",
        "outputId": "712dc78c-40a9-4d30-bf45-6ad10ddb0e2d"
      },
      "execution_count": 24,
      "outputs": [
        {
          "output_type": "execute_result",
          "data": {
            "text/plain": [
              "array([157.88426951, 150.14163981, 148.75193705, 150.20781614,\n",
              "       146.17106048, 158.94309066, 147.29605796, 163.2445516 ,\n",
              "       147.22988164, 146.36958945, 159.6710302 , 157.48721157,\n",
              "       148.75193705, 178.26657673, 169.33277324, 163.64160953,\n",
              "       171.38423923, 180.71510065, 149.2151713 , 146.76664738,\n",
              "       152.85486902, 146.43576577, 150.86957936, 146.63429474,\n",
              "       158.61220905, 157.95044583, 162.84749367, 148.48723176,\n",
              "       167.34748358, 143.32547863, 140.94313103, 152.85486902,\n",
              "       173.56805786, 156.69309571, 137.70049125, 148.68576073,\n",
              "       165.89160449, 158.34750376, 143.85488921, 145.77400255,\n",
              "       160.79602768, 161.59014355, 143.72253656, 150.27399246,\n",
              "       170.39159439, 152.59016373, 148.42105544, 136.50931745,\n",
              "       137.17108067, 157.28868261, 158.1489748 , 166.48719139,\n",
              "       146.70047106, 155.96515616, 169.06806795, 136.31078848,\n",
              "       153.91369018, 155.1710403 , 150.4063451 , 147.89164486,\n",
              "       161.19308561, 144.58282875, 171.9136498 , 155.50192191,\n",
              "       159.20779595, 149.54605291, 164.83278333, 143.32547863,\n",
              "       146.03870784, 131.61226961, 152.7886927 , 161.78867251,\n",
              "       158.94309066, 157.09015364, 150.00928717, 161.4577909 ,\n",
              "       142.3328338 , 150.73722671, 146.36958945, 150.47252142,\n",
              "       154.97251133, 134.52402778, 148.68576073, 143.72253656,\n",
              "       150.80340304, 144.91371036, 148.6195844 , 133.6637356 ,\n",
              "       149.14899498, 152.85486902, 173.03864728, 144.1195945 ,\n",
              "       152.12692948, 154.70780604, 138.69313608, 155.30339294,\n",
              "       145.84017887, 151.26663729, 133.13432502, 159.86955917,\n",
              "       134.65638043, 149.61222924, 172.44306038, 151.06810832,\n",
              "       151.5975189 , 154.97251133, 157.09015364, 163.11219896,\n",
              "       150.14163981, 137.96519654, 155.96515616, 146.30341313,\n",
              "       150.34016878, 176.41363971, 163.97249115, 148.55340808,\n",
              "       181.4430402 , 164.4357254 , 141.86959954, 160.00191182,\n",
              "       157.5533879 , 150.73722671, 150.00928717, 141.53871793,\n",
              "       144.45047611, 143.65636024, 146.10488416, 148.09017383,\n",
              "       154.64162972, 152.98722167, 156.42839042, 138.7593124 ,\n",
              "       153.3842796 , 164.36954908, 151.26663729, 157.75191686,\n",
              "       153.05339799, 139.15637034, 158.74456169, 140.74460207,\n",
              "       145.44312094, 147.69311589, 158.01662215, 142.13430483,\n",
              "       153.9798665 , 169.2004206 ])"
            ]
          },
          "metadata": {},
          "execution_count": 24
        }
      ]
    },
    {
      "cell_type": "code",
      "source": [
        "plt.scatter(X_test, y_test,  color='black')\n",
        "plt.plot(X_test, y_pred, color='blue', linewidth=3)\n",
        "plt.xlabel('Scaled BMIs')\n",
        "plt.ylabel('Disease Progression')\n",
        "plt.title('A Graph Plot Showing Diabetes Progression Against BMI')\n",
        "plt.show()"
      ],
      "metadata": {
        "colab": {
          "base_uri": "https://localhost:8080/",
          "height": 295
        },
        "id": "VlIWdPRY8q5W",
        "outputId": "95ac11e6-bc0c-4c96-9678-679a1015b613"
      },
      "execution_count": 25,
      "outputs": [
        {
          "output_type": "display_data",
          "data": {
            "image/png": "[encoded data removed]",
            "text/plain": [
              "<Figure size 432x288 with 1 Axes>"
            ]
          },
          "metadata": {
            "needs_background": "light"
          }
        }
      ]
    },
    {
      "cell_type": "code",
      "source": [
        ""
      ],
      "metadata": {
        "id": "j-fVE7Nv8q82"
      },
      "execution_count": 25,
      "outputs": []
    },
    {
      "cell_type": "code",
      "source": [
        ""
      ],
      "metadata": {
        "id": "j6IjOOKa8q-j"
      },
      "execution_count": 25,
      "outputs": []
    },
    {
      "cell_type": "code",
      "source": [
        ""
      ],
      "metadata": {
        "id": "FEWOvUK08rA2"
      },
      "execution_count": 25,
      "outputs": []
    },
    {
      "cell_type": "code",
      "source": [
        ""
      ],
      "metadata": {
        "id": "otG97_MC8rDo"
      },
      "execution_count": 25,
      "outputs": []
    },
    {
      "cell_type": "code",
      "source": [
        ""
      ],
      "metadata": {
        "id": "fgsoWEAv8rGn"
      },
      "execution_count": 25,
      "outputs": []
    },
    {
      "cell_type": "code",
      "source": [
        ""
      ],
      "metadata": {
        "id": "RsfhzwYM8rJj"
      },
      "execution_count": 25,
      "outputs": []
    }
  ]
}